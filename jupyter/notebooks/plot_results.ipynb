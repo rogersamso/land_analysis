{
 "cells": [
  {
   "cell_type": "code",
   "execution_count": null,
   "id": "d7368f39-81b2-4f35-9f0f-6e5fdab326c1",
   "metadata": {},
   "outputs": [],
   "source": [
    "import os\n",
    "import sys\n",
    "\n",
    "from pathlib import Path\n",
    "import geopandas as gpd\n",
    "import rioxarray as rxr\n",
    "import numpy as np\n",
    "import json\n",
    "\n",
    "from src.io_vector import FileReader\n",
    "\n",
    "from IPython.display import JSON\n",
    "\n",
    "import matplotlib\n",
    "import matplotlib.pyplot as plt\n",
    "import matplotlib.colors as mcolors\n",
    "from mpl_toolkits.axes_grid1.anchored_artists import AnchoredSizeBar\n",
    "import matplotlib.font_manager as fm\n",
    "from matplotlib.patches import Patch"
   ]
  },
  {
   "cell_type": "code",
   "execution_count": null,
   "id": "d488dd9c-43a8-42ac-ac79-8848be120446",
   "metadata": {},
   "outputs": [],
   "source": [
    "aoi_fname = \"area_intersects_border.geojson\"\n",
    "arg_border_fname = \"admin_border_ARG.geojson\"\n",
    "results_fname = \"classified_land.tif\"\n",
    "stats_fname = \"stats.json\""
   ]
  },
  {
   "cell_type": "code",
   "execution_count": null,
   "id": "8b1c275b-54b4-481d-9ff1-43a38a5de1e6",
   "metadata": {},
   "outputs": [],
   "source": [
    "INPUT_DIR = Path(os.getenv(\"INPUT_DIR\"))\n",
    "OUTPUT_DIR = Path(os.getenv(\"OUTPUT_DIR\"))\n",
    "RESULTS_DIR = OUTPUT_DIR.joinpath(\"results\")\n",
    "INTERMEDIATE_RESULTS_DIR = OUTPUT_DIR.joinpath(\"intermediate_results\")"
   ]
  },
  {
   "cell_type": "code",
   "execution_count": null,
   "id": "570f45c0-9fd3-4aa8-a567-5d8c99e043e7",
   "metadata": {},
   "outputs": [],
   "source": [
    "aoi_path = INPUT_DIR.joinpath(aoi_fname)\n",
    "argentina_borders_path = INPUT_DIR.joinpath(arg_border_fname)\n",
    "results_path = RESULTS_DIR.joinpath(results_fname)\n",
    "stats_path = RESULTS_DIR.joinpath(stats_fname)\n",
    "\n",
    "classified_cover = INTERMEDIATE_RESULTS_DIR.joinpath(\"land_cover_intersect_reclassified.tif\")\n",
    "classified_slope = INTERMEDIATE_RESULTS_DIR.joinpath(\"slope_reclassified.tif\")\n",
    "classified_hand = INTERMEDIATE_RESULTS_DIR.joinpath(\"hand_processed_reclassified.tif\")"
   ]
  },
  {
   "cell_type": "markdown",
   "id": "9f9e9c2c-61b4-4250-b2a8-909b1fc5a1e6",
   "metadata": {},
   "source": [
    "# Load required files"
   ]
  },
  {
   "cell_type": "code",
   "execution_count": null,
   "id": "4232cc22-7370-46b8-bc02-cb5110eac498",
   "metadata": {},
   "outputs": [],
   "source": [
    "aoi_area = gpd.read_file(aoi_path)"
   ]
  },
  {
   "cell_type": "code",
   "execution_count": null,
   "id": "fb3a2cba-4bbc-422e-a86c-521ba529f94b",
   "metadata": {},
   "outputs": [],
   "source": [
    "argentina_borders = gpd.read_file(argentina_borders_path)"
   ]
  },
  {
   "cell_type": "code",
   "execution_count": null,
   "id": "68a84f05-139c-4c80-ab95-373e7d9f1676",
   "metadata": {},
   "outputs": [],
   "source": [
    "result = rxr.open_rasterio(results_path, masked=True).squeeze()\n",
    "result = result.where(result != -9999, np.nan)"
   ]
  },
  {
   "cell_type": "code",
   "execution_count": null,
   "id": "26ad2d19-376c-4f43-838d-6c682d53c870",
   "metadata": {},
   "outputs": [],
   "source": [
    "with open(stats_path) as f:\n",
    "    stats = json.load(f)"
   ]
  },
  {
   "cell_type": "markdown",
   "id": "23e5f1cc-046e-445f-824c-ad9e43557626",
   "metadata": {},
   "source": [
    "# Reproject if needed"
   ]
  },
  {
   "cell_type": "code",
   "execution_count": null,
   "id": "825a96e8-75b7-4ffb-8f25-90cccaa3bb78",
   "metadata": {},
   "outputs": [],
   "source": [
    "result_crs = result.rio.crs\n",
    "aoi_area.to_crs(result_crs, inplace=True)\n",
    "argentina_borders.to_crs(result_crs, inplace=True)"
   ]
  },
  {
   "cell_type": "markdown",
   "id": "168cdeb6-b037-4465-b32e-a3ceb2234b89",
   "metadata": {},
   "source": [
    "# Plot results"
   ]
  },
  {
   "cell_type": "code",
   "execution_count": null,
   "id": "fe7d47bf-d10a-4210-9d4f-3aecbcd5d2b0",
   "metadata": {},
   "outputs": [],
   "source": [
    "# situational map\n",
    "aoi_area.explore()"
   ]
  },
  {
   "cell_type": "code",
   "execution_count": null,
   "id": "cef6dd00-edce-4d0b-883a-736f65ce30aa",
   "metadata": {},
   "outputs": [],
   "source": [
    "fig, ax = plt.subplots(figsize=(10, 10))\n",
    "\n",
    "# plot the provinces\n",
    "argentina_borders.plot(ax=ax, color='lightblue', edgecolor='black', linewidth=1, alpha=0.5)\n",
    "\n",
    "# plot the aoi\n",
    "aoi_area.plot(ax=ax, color='orange', edgecolor='black', linewidth=1)\n",
    "\n",
    "# add titles and labels\n",
    "ax.set_title('Area of interest')\n",
    "ax.set_xlabel('Longitude')\n",
    "ax.set_ylabel('Latitude')\n",
    "\n",
    "# create legend\n",
    "legend_elements = [Patch(facecolor='lightblue', edgecolor='black', label='Argentina provinces', alpha=0.5),\n",
    "                   Patch(facecolor='orange', edgecolor='black', label='Area of interest')]\n",
    "\n",
    "ax.legend(handles=legend_elements, loc='lower right')\n",
    "\n",
    "plt.show()"
   ]
  },
  {
   "cell_type": "code",
   "execution_count": null,
   "id": "c3264a61-d20c-4a41-b6ba-2b0b9a53f938",
   "metadata": {},
   "outputs": [],
   "source": [
    "cmap = mcolors.ListedColormap(['lightgrey', 'orange', 'green'])\n",
    "bounds = [1, 2, 3, 4]  #bounds for the colormap\n",
    "norm = mcolors.BoundaryNorm(bounds, cmap.N)\n",
    "\n",
    "fig, ax = plt.subplots(figsize=(10, 10))\n",
    "cbar = ax.imshow(result, cmap=cmap, norm=norm)\n",
    "\n",
    "# colorbar with labels\n",
    "cbar = fig.colorbar(cbar, ticks=[1.5, 2.5, 3.5])\n",
    "cbar.ax.set_yticklabels(['Low suitability', 'Medium suitability', 'High suitability'])\n",
    "\n",
    "# get the spatial resolution (we know the spatial resolution in x and y is uniform)\n",
    "resolution_x, resolution_y = result.rio.resolution()\n",
    "\n",
    "# scale bar length in meters\n",
    "scale_bar_length = 5000\n",
    "\n",
    "# scale bar length in data units (pixels)\n",
    "scale_bar_length_in_units = scale_bar_length / resolution_x\n",
    "\n",
    "\n",
    "# Add scale bar\n",
    "fontprops = fm.FontProperties(size=12)\n",
    "scalebar = AnchoredSizeBar(ax.transData,\n",
    "                           scale_bar_length_in_units, f'{scale_bar_length / 1000:.1f} km', 'lower right',\n",
    "                           pad=0.1,\n",
    "                           color='black',\n",
    "                           frameon=False,\n",
    "                           size_vertical=1,\n",
    "                           fontproperties=fontprops)\n",
    "ax.add_artist(scalebar)\n",
    "\n",
    "# Add north arrow\n",
    "x, y, arrow_length = 0.1, 0.9, 0.1\n",
    "ax.annotate('N', xy=(x, y), xytext=(x, y-arrow_length),\n",
    "            arrowprops=dict(facecolor='black', width=5, headwidth=15),\n",
    "            ha='center', va='center', fontsize=20,\n",
    "            xycoords=ax.transAxes)\n",
    "\n",
    "ax.set_title('Land Suitability')\n",
    "ax.set_xlabel('X coordinate')\n",
    "ax.set_ylabel('Y coordinate')\n",
    "\n",
    "plt.show()"
   ]
  },
  {
   "cell_type": "markdown",
   "id": "1210b4b3-3e48-4018-9098-fcfe2f5d8d4c",
   "metadata": {},
   "source": [
    "# Display project statistics"
   ]
  },
  {
   "cell_type": "code",
   "execution_count": null,
   "id": "08987c73-69a7-4300-a085-a9deff4b30d4",
   "metadata": {},
   "outputs": [],
   "source": [
    "JSON(stats)"
   ]
  },
  {
   "cell_type": "code",
   "execution_count": null,
   "id": "0efd67bb-a3df-4a2e-b3e7-2bd3f76b01b8",
   "metadata": {},
   "outputs": [],
   "source": []
  }
 ],
 "metadata": {
  "kernelspec": {
   "display_name": "Python 3 (ipykernel)",
   "language": "python",
   "name": "python3"
  },
  "language_info": {
   "codemirror_mode": {
    "name": "ipython",
    "version": 3
   },
   "file_extension": ".py",
   "mimetype": "text/x-python",
   "name": "python",
   "nbconvert_exporter": "python",
   "pygments_lexer": "ipython3",
   "version": "3.12.4"
  }
 },
 "nbformat": 4,
 "nbformat_minor": 5
}
